{
  "cells": [
    {
      "cell_type": "markdown",
      "metadata": {},
      "source": [
        "# 4. Graph RAG\n",
        "<img src=\"https://bluetick-website-images.bluetickconsultants.com/images/blog/rag-graphrag/key-differentiators-of-graphrag.webp\" height=300px>"
      ]
    },
    {
      "cell_type": "code",
      "execution_count": 102,
      "metadata": {
        "colab": {
          "base_uri": "https://localhost:8080/"
        },
        "id": "WYhB2OARw_Nq",
        "outputId": "3656253f-5fa5-454e-d93f-6ad7ebf02a04"
      },
      "outputs": [],
      "source": [
        "!pip install --upgrade --quiet  langchain langchain-community langchain-groq neo4j"
      ]
    },
    {
      "cell_type": "code",
      "execution_count": 103,
      "metadata": {
        "colab": {
          "base_uri": "https://localhost:8080/"
        },
        "id": "6mbEhsdS1Y0N",
        "outputId": "c1ae1290-19f8-40da-85ae-0457186ac99f"
      },
      "outputs": [],
      "source": [
        "!pip install --upgrade --quiet langchain_experimental"
      ]
    },
    {
      "cell_type": "markdown",
      "metadata": {},
      "source": [
        "### Importing libraries"
      ]
    },
    {
      "cell_type": "code",
      "execution_count": 104,
      "metadata": {},
      "outputs": [],
      "source": [
        "import os\n",
        "from langchain_community.graphs import Neo4jGraph\n",
        "from langchain_groq import ChatGroq\n",
        "from langchain_core.documents import Document\n",
        "import fitz\n",
        "from langchain_experimental.graph_transformers import LLMGraphTransformer\n",
        "from langchain.chains import GraphCypherQAChain"
      ]
    },
    {
      "cell_type": "code",
      "execution_count": 105,
      "metadata": {
        "id": "OBL8Iqs4xoeh"
      },
      "outputs": [],
      "source": [
        "## Graphdb configuration\n",
        "NEO4J_URI=\"\"\n",
        "NEO4J_USERNAME=\"\"\n",
        "NEO4J_PASSWORD=\"\""
      ]
    },
    {
      "cell_type": "code",
      "execution_count": 106,
      "metadata": {
        "id": "uDS6XHgbycee"
      },
      "outputs": [],
      "source": [
        "\n",
        "os.environ[\"NEO4J_URI\"]=NEO4J_URI\n",
        "os.environ[\"NEO4J_USERNAME\"]=NEO4J_USERNAME\n",
        "os.environ[\"NEO4J_PASSWORD\"]=NEO4J_PASSWORD"
      ]
    },
    {
      "cell_type": "code",
      "execution_count": 107,
      "metadata": {
        "id": "5rikUUiCymWG"
      },
      "outputs": [],
      "source": [
        "graph=Neo4jGraph(\n",
        "    url=NEO4J_URI,\n",
        "    username=NEO4J_USERNAME,\n",
        "    password=NEO4J_PASSWORD,\n",
        ")"
      ]
    },
    {
      "cell_type": "code",
      "execution_count": 108,
      "metadata": {
        "colab": {
          "base_uri": "https://localhost:8080/"
        },
        "id": "j6Zy5Bc_y1oN",
        "outputId": "4a0934a4-0692-4455-84ec-2f1fa1e65125"
      },
      "outputs": [
        {
          "data": {
            "text/plain": [
              "<langchain_community.graphs.neo4j_graph.Neo4jGraph at 0x1e233028740>"
            ]
          },
          "execution_count": 108,
          "metadata": {},
          "output_type": "execute_result"
        }
      ],
      "source": [
        "graph"
      ]
    },
    {
      "cell_type": "code",
      "execution_count": 109,
      "metadata": {
        "id": "55sZpcz8y2dx"
      },
      "outputs": [],
      "source": [
        "groq_api_key=\"\""
      ]
    },
    {
      "cell_type": "code",
      "execution_count": 110,
      "metadata": {
        "colab": {
          "base_uri": "https://localhost:8080/"
        },
        "id": "YtqR-fXVzxXZ",
        "outputId": "3a74fec0-32b0-4189-93b8-95eafac7529e"
      },
      "outputs": [
        {
          "data": {
            "text/plain": [
              "ChatGroq(client=<groq.resources.chat.completions.Completions object at 0x000001E232DF0440>, async_client=<groq.resources.chat.completions.AsyncCompletions object at 0x000001E232DF36E0>, model_name='Gemma2-9b-It', model_kwargs={}, groq_api_key=SecretStr('**********'))"
            ]
          },
          "execution_count": 110,
          "metadata": {},
          "output_type": "execute_result"
        }
      ],
      "source": [
        "\n",
        "llm=ChatGroq(groq_api_key=groq_api_key,model_name=\"Gemma2-9b-It\")\n",
        "llm"
      ]
    },
    {
      "cell_type": "code",
      "execution_count": 111,
      "metadata": {},
      "outputs": [
        {
          "name": "stdout",
          "output_type": "stream",
          "text": [
            "[Document(metadata={}, page_content='A Report of the Intergovernmental Panel on Climate Change\\nCLIMATE CHANGE 2023\\nSynthesis Report\\nSummary for Policymakers\\n')]\n"
          ]
        }
      ],
      "source": [
        "\n",
        "\n",
        "def read_pdf(file_path):\n",
        "    doc = fitz.open(file_path)\n",
        "    text = \"\"\n",
        "    # read only till 4 pages\n",
        "    \n",
        "    for page_num in range(2):\n",
        "        page = doc.load_page(page_num)\n",
        "        text += page.get_text()\n",
        "    return text\n",
        "\n",
        "pdf_path = \"pdf/IPCC_AR6_SYR_SPM.pdf\" \n",
        "text = read_pdf(pdf_path)\n",
        "\n",
        "documents = [Document(page_content=text)]\n",
        "print(documents)\n"
      ]
    },
    {
      "cell_type": "code",
      "execution_count": 112,
      "metadata": {
        "id": "8ripzwTX0q1X"
      },
      "outputs": [],
      "source": [
        "\n",
        "llm_transformer=LLMGraphTransformer(llm=llm)"
      ]
    },
    {
      "cell_type": "code",
      "execution_count": 113,
      "metadata": {
        "id": "QedL67iH1ujK"
      },
      "outputs": [],
      "source": [
        "graph_documents=llm_transformer.convert_to_graph_documents(documents)"
      ]
    },
    {
      "cell_type": "code",
      "execution_count": 114,
      "metadata": {},
      "outputs": [
        {
          "data": {
            "text/plain": [
              "[Document(metadata={}, page_content='A Report of the Intergovernmental Panel on Climate Change\\nCLIMATE CHANGE 2023\\nSynthesis Report\\nSummary for Policymakers\\n')]"
            ]
          },
          "execution_count": 114,
          "metadata": {},
          "output_type": "execute_result"
        }
      ],
      "source": [
        "documents"
      ]
    },
    {
      "cell_type": "code",
      "execution_count": 115,
      "metadata": {
        "colab": {
          "base_uri": "https://localhost:8080/"
        },
        "id": "uAdF2BZm13w4",
        "outputId": "f8521231-c938-4861-a123-d9d484cc29e3"
      },
      "outputs": [
        {
          "data": {
            "text/plain": [
              "[GraphDocument(nodes=[Node(id='Climate Change 2023', type='Report', properties={}), Node(id='Synthesis Report', type='Report_part', properties={}), Node(id='Summary For Policymakers', type='Report_part', properties={}), Node(id='Intergovernmental Panel On Climate Change', type='Organization', properties={})], relationships=[Relationship(source=Node(id='Climate Change 2023', type='Report', properties={}), target=Node(id='Synthesis Report', type='Report_part', properties={}), type='CONTAINS', properties={}), Relationship(source=Node(id='Climate Change 2023', type='Report', properties={}), target=Node(id='Summary For Policymakers', type='Report_part', properties={}), type='CONTAINS', properties={}), Relationship(source=Node(id='Intergovernmental Panel On Climate Change', type='Organization', properties={}), target=Node(id='Climate Change 2023', type='Report', properties={}), type='CREATED', properties={})], source=Document(metadata={}, page_content='A Report of the Intergovernmental Panel on Climate Change\\nCLIMATE CHANGE 2023\\nSynthesis Report\\nSummary for Policymakers\\n'))]"
            ]
          },
          "execution_count": 115,
          "metadata": {},
          "output_type": "execute_result"
        }
      ],
      "source": [
        "graph_documents"
      ]
    },
    {
      "cell_type": "code",
      "execution_count": 116,
      "metadata": {
        "colab": {
          "base_uri": "https://localhost:8080/"
        },
        "id": "h3pSzKLE2OJj",
        "outputId": "ca981bc7-02dc-450c-dccd-e195b28e3742"
      },
      "outputs": [
        {
          "data": {
            "text/plain": [
              "[Node(id='Climate Change 2023', type='Report', properties={}),\n",
              " Node(id='Synthesis Report', type='Report_part', properties={}),\n",
              " Node(id='Summary For Policymakers', type='Report_part', properties={}),\n",
              " Node(id='Intergovernmental Panel On Climate Change', type='Organization', properties={})]"
            ]
          },
          "execution_count": 116,
          "metadata": {},
          "output_type": "execute_result"
        }
      ],
      "source": [
        "graph_documents[0].nodes"
      ]
    },
    {
      "cell_type": "code",
      "execution_count": 117,
      "metadata": {
        "colab": {
          "base_uri": "https://localhost:8080/"
        },
        "id": "DvvdoA5W2fEZ",
        "outputId": "b9e05473-be3d-446c-da49-030b4b7a0fa8"
      },
      "outputs": [
        {
          "data": {
            "text/plain": [
              "[Relationship(source=Node(id='Climate Change 2023', type='Report', properties={}), target=Node(id='Synthesis Report', type='Report_part', properties={}), type='CONTAINS', properties={}),\n",
              " Relationship(source=Node(id='Climate Change 2023', type='Report', properties={}), target=Node(id='Summary For Policymakers', type='Report_part', properties={}), type='CONTAINS', properties={}),\n",
              " Relationship(source=Node(id='Intergovernmental Panel On Climate Change', type='Organization', properties={}), target=Node(id='Climate Change 2023', type='Report', properties={}), type='CREATED', properties={})]"
            ]
          },
          "execution_count": 117,
          "metadata": {},
          "output_type": "execute_result"
        }
      ],
      "source": [
        "graph_documents[0].relationships"
      ]
    },
    {
      "cell_type": "code",
      "execution_count": 118,
      "metadata": {},
      "outputs": [
        {
          "data": {
            "text/plain": [
              "[GraphDocument(nodes=[Node(id='Climate Change 2023', type='Report', properties={}), Node(id='Synthesis Report', type='Report_part', properties={}), Node(id='Summary For Policymakers', type='Report_part', properties={}), Node(id='Intergovernmental Panel On Climate Change', type='Organization', properties={})], relationships=[Relationship(source=Node(id='Climate Change 2023', type='Report', properties={}), target=Node(id='Synthesis Report', type='Report_part', properties={}), type='CONTAINS', properties={}), Relationship(source=Node(id='Climate Change 2023', type='Report', properties={}), target=Node(id='Summary For Policymakers', type='Report_part', properties={}), type='CONTAINS', properties={}), Relationship(source=Node(id='Intergovernmental Panel On Climate Change', type='Organization', properties={}), target=Node(id='Climate Change 2023', type='Report', properties={}), type='CREATED', properties={})], source=Document(metadata={}, page_content='A Report of the Intergovernmental Panel on Climate Change\\nCLIMATE CHANGE 2023\\nSynthesis Report\\nSummary for Policymakers\\n'))]"
            ]
          },
          "execution_count": 118,
          "metadata": {},
          "output_type": "execute_result"
        }
      ],
      "source": [
        "graph_documents"
      ]
    },
    {
      "cell_type": "code",
      "execution_count": 119,
      "metadata": {
        "colab": {
          "base_uri": "https://localhost:8080/"
        },
        "id": "tGUot6uZ8wnj",
        "outputId": "82ea048f-fcc8-45a7-a727-ec2c976bbbe5"
      },
      "outputs": [
        {
          "data": {
            "text/plain": [
              "GraphCypherQAChain(verbose=True, graph=<langchain_community.graphs.neo4j_graph.Neo4jGraph object at 0x000001E233028740>, cypher_generation_chain=LLMChain(verbose=False, prompt=PromptTemplate(input_variables=['question', 'schema'], input_types={}, partial_variables={}, template='Task:Generate Cypher statement to query a graph database.\\nInstructions:\\nUse only the provided relationship types and properties in the schema.\\nDo not use any other relationship types or properties that are not provided.\\nSchema:\\n{schema}\\nNote: Do not include any explanations or apologies in your responses.\\nDo not respond to any questions that might ask anything else than for you to construct a Cypher statement.\\nDo not include any text except the generated Cypher statement.\\n\\nThe question is:\\n{question}'), llm=ChatGroq(client=<groq.resources.chat.completions.Completions object at 0x000001E232DF0440>, async_client=<groq.resources.chat.completions.AsyncCompletions object at 0x000001E232DF36E0>, model_name='Gemma2-9b-It', model_kwargs={}, groq_api_key=SecretStr('**********')), output_parser=StrOutputParser(), llm_kwargs={}), qa_chain=LLMChain(verbose=False, prompt=PromptTemplate(input_variables=['context', 'question'], input_types={}, partial_variables={}, template=\"You are an assistant that helps to form nice and human understandable answers.\\nThe information part contains the provided information that you must use to construct an answer.\\nThe provided information is authoritative, you must never doubt it or try to use your internal knowledge to correct it.\\nMake the answer sound as a response to the question. Do not mention that you based the result on the given information.\\nHere is an example:\\n\\nQuestion: Which managers own Neo4j stocks?\\nContext:[manager:CTL LLC, manager:JANE STREET GROUP LLC]\\nHelpful Answer: CTL LLC, JANE STREET GROUP LLC owns Neo4j stocks.\\n\\nFollow this example when generating answers.\\nIf the provided information is empty, say that you don't know the answer.\\nInformation:\\n{context}\\n\\nQuestion: {question}\\nHelpful Answer:\"), llm=ChatGroq(client=<groq.resources.chat.completions.Completions object at 0x000001E232DF0440>, async_client=<groq.resources.chat.completions.AsyncCompletions object at 0x000001E232DF36E0>, model_name='Gemma2-9b-It', model_kwargs={}, groq_api_key=SecretStr('**********')), output_parser=StrOutputParser(), llm_kwargs={}), graph_schema='Node properties are the following:\\n\\nRelationship properties are the following:\\n\\nThe relationships are the following:\\n', allow_dangerous_requests=True)"
            ]
          },
          "execution_count": 119,
          "metadata": {},
          "output_type": "execute_result"
        }
      ],
      "source": [
        "chain=GraphCypherQAChain.from_llm(llm=llm,graph=graph,verbose=True,allow_dangerous_requests=True)\n",
        "chain"
      ]
    },
    {
      "cell_type": "code",
      "execution_count": 120,
      "metadata": {
        "colab": {
          "base_uri": "https://localhost:8080/"
        },
        "id": "53tukPgo9Ab9",
        "outputId": "b3e44f3c-bd00-41b6-bbea-f0a73f453c05"
      },
      "outputs": [
        {
          "name": "stdout",
          "output_type": "stream",
          "text": [
            "\n",
            "\n",
            "\u001b[1m> Entering new GraphCypherQAChain chain...\u001b[0m\n"
          ]
        },
        {
          "name": "stderr",
          "output_type": "stream",
          "text": [
            "Received notification from DBMS server: {severity: WARNING} {code: Neo.ClientNotification.Statement.UnknownRelationshipTypeWarning} {category: UNRECOGNIZED} {title: The provided relationship type is not in the database.} {description: One of the relationship types in your query is not available in the database, make sure you didn't misspell it or that the label is available when you run this statement in your application (the missing relationship type is: AFFECTS)} {position: line: 2, column: 26, offset: 32} for query: 'cypher\\nMATCH (c:ClimateRisk)<-[:AFFECTS]-(r:Risk)\\nRETURN r.name\\n'\n",
            "Received notification from DBMS server: {severity: WARNING} {code: Neo.ClientNotification.Statement.UnknownLabelWarning} {category: UNRECOGNIZED} {title: The provided label is not in the database.} {description: One of the labels in your query is not available in the database, make sure you didn't misspell it or that the label is available when you run this statement in your application (the missing label name is: ClimateRisk)} {position: line: 2, column: 10, offset: 16} for query: 'cypher\\nMATCH (c:ClimateRisk)<-[:AFFECTS]-(r:Risk)\\nRETURN r.name\\n'\n",
            "Received notification from DBMS server: {severity: WARNING} {code: Neo.ClientNotification.Statement.UnknownLabelWarning} {category: UNRECOGNIZED} {title: The provided label is not in the database.} {description: One of the labels in your query is not available in the database, make sure you didn't misspell it or that the label is available when you run this statement in your application (the missing label name is: Risk)} {position: line: 2, column: 38, offset: 44} for query: 'cypher\\nMATCH (c:ClimateRisk)<-[:AFFECTS]-(r:Risk)\\nRETURN r.name\\n'\n"
          ]
        },
        {
          "name": "stdout",
          "output_type": "stream",
          "text": [
            "Generated Cypher:\n",
            "\u001b[32;1m\u001b[1;3mcypher\n",
            "MATCH (c:ClimateRisk)<-[:AFFECTS]-(r:Risk)\n",
            "RETURN r.name\n",
            "\u001b[0m\n",
            "Full Context:\n",
            "\u001b[32;1m\u001b[1;3m[]\u001b[0m\n",
            "\n",
            "\u001b[1m> Finished chain.\u001b[0m\n"
          ]
        },
        {
          "data": {
            "text/plain": [
              "{'query': 'What are some climate related risks?',\n",
              " 'result': \"I don't know the answer. \\n\"}"
            ]
          },
          "execution_count": 120,
          "metadata": {},
          "output_type": "execute_result"
        }
      ],
      "source": [
        "response=chain.invoke({\"query\":\"What are some climate related risks?\"})\n",
        "\n",
        "response\n"
      ]
    },
    {
      "cell_type": "code",
      "execution_count": null,
      "metadata": {},
      "outputs": [],
      "source": []
    }
  ],
  "metadata": {
    "accelerator": "GPU",
    "colab": {
      "gpuType": "T4",
      "provenance": []
    },
    "kernelspec": {
      "display_name": "Python 3",
      "name": "python3"
    },
    "language_info": {
      "codemirror_mode": {
        "name": "ipython",
        "version": 3
      },
      "file_extension": ".py",
      "mimetype": "text/x-python",
      "name": "python",
      "nbconvert_exporter": "python",
      "pygments_lexer": "ipython3",
      "version": "3.12.8"
    }
  },
  "nbformat": 4,
  "nbformat_minor": 0
}
