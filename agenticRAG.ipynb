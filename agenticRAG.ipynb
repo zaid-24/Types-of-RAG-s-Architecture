{
 "cells": [
  {
   "cell_type": "markdown",
   "metadata": {},
   "source": [
    "# 3. Agentic RAG\n",
    "<img src=\"https://humanloop.com/blog/rag-architectures/agentic-rag.png\" height=250px>"
   ]
  },
  {
   "cell_type": "code",
   "execution_count": 2,
   "metadata": {},
   "outputs": [
    {
     "name": "stdout",
     "output_type": "stream",
     "text": [
      "Requirement already satisfied: deeplake==3.9.27 in c:\\users\\asus\\appdata\\local\\programs\\python\\python312\\lib\\site-packages (3.9.27)\n",
      "Collecting langchain-community==0.3.5\n",
      "  Using cached langchain_community-0.3.5-py3-none-any.whl.metadata (2.9 kB)\n",
      "Collecting langchain-core==0.3.15\n",
      "  Using cached langchain_core-0.3.15-py3-none-any.whl.metadata (6.3 kB)\n",
      "Requirement already satisfied: langchain-experimental==0.3.3 in c:\\users\\asus\\appdata\\local\\programs\\python\\python312\\lib\\site-packages (0.3.3)\n",
      "Requirement already satisfied: langchain-openai in c:\\users\\asus\\appdata\\local\\programs\\python\\python312\\lib\\site-packages (0.2.6)\n",
      "Collecting langchain-text-splitters==0.3.2\n",
      "  Using cached langchain_text_splitters-0.3.2-py3-none-any.whl.metadata (2.3 kB)\n",
      "Requirement already satisfied: numpy==1.26.4 in c:\\users\\asus\\appdata\\local\\programs\\python\\python312\\lib\\site-packages (1.26.4)\n",
      "Collecting openai==1.54.4\n",
      "  Using cached openai-1.54.4-py3-none-any.whl.metadata (24 kB)\n",
      "Requirement already satisfied: pandas==2.2.3 in c:\\users\\asus\\appdata\\local\\programs\\python\\python312\\lib\\site-packages (2.2.3)\n",
      "Requirement already satisfied: pillow==10.4.0 in c:\\users\\asus\\appdata\\local\\programs\\python\\python312\\lib\\site-packages (10.4.0)\n",
      "Requirement already satisfied: PyMuPDF==1.24.13 in c:\\users\\asus\\appdata\\local\\programs\\python\\python312\\lib\\site-packages (1.24.13)\n",
      "Requirement already satisfied: tavily-python==0.5.0 in c:\\users\\asus\\appdata\\local\\programs\\python\\python312\\lib\\site-packages (0.5.0)\n",
      "Requirement already satisfied: boto3 in c:\\users\\asus\\appdata\\local\\programs\\python\\python312\\lib\\site-packages (from deeplake==3.9.27) (1.35.81)\n",
      "Requirement already satisfied: click in c:\\users\\asus\\appdata\\local\\programs\\python\\python312\\lib\\site-packages (from deeplake==3.9.27) (8.1.7)\n",
      "Requirement already satisfied: pathos in c:\\users\\asus\\appdata\\local\\programs\\python\\python312\\lib\\site-packages (from deeplake==3.9.27) (0.3.3)\n",
      "Requirement already satisfied: humbug>=0.3.1 in c:\\users\\asus\\appdata\\local\\programs\\python\\python312\\lib\\site-packages (from deeplake==3.9.27) (0.3.2)\n",
      "Requirement already satisfied: tqdm in c:\\users\\asus\\appdata\\local\\programs\\python\\python312\\lib\\site-packages (from deeplake==3.9.27) (4.67.1)\n",
      "Requirement already satisfied: lz4 in c:\\users\\asus\\appdata\\local\\programs\\python\\python312\\lib\\site-packages (from deeplake==3.9.27) (4.3.3)\n",
      "Requirement already satisfied: pyjwt in c:\\users\\asus\\appdata\\local\\programs\\python\\python312\\lib\\site-packages (from deeplake==3.9.27) (2.10.1)\n",
      "Requirement already satisfied: pydantic in c:\\users\\asus\\appdata\\local\\programs\\python\\python312\\lib\\site-packages (from deeplake==3.9.27) (2.10.3)\n",
      "Requirement already satisfied: PyYAML>=5.3 in c:\\users\\asus\\appdata\\local\\programs\\python\\python312\\lib\\site-packages (from langchain-community==0.3.5) (6.0.2)\n",
      "Requirement already satisfied: SQLAlchemy<2.0.36,>=1.4 in c:\\users\\asus\\appdata\\local\\programs\\python\\python312\\lib\\site-packages (from langchain-community==0.3.5) (2.0.35)\n",
      "Requirement already satisfied: aiohttp<4.0.0,>=3.8.3 in c:\\users\\asus\\appdata\\local\\programs\\python\\python312\\lib\\site-packages (from langchain-community==0.3.5) (3.10.8)\n",
      "Requirement already satisfied: dataclasses-json<0.7,>=0.5.7 in c:\\users\\asus\\appdata\\local\\programs\\python\\python312\\lib\\site-packages (from langchain-community==0.3.5) (0.6.7)\n",
      "Requirement already satisfied: httpx-sse<0.5.0,>=0.4.0 in c:\\users\\asus\\appdata\\local\\programs\\python\\python312\\lib\\site-packages (from langchain-community==0.3.5) (0.4.0)\n",
      "Requirement already satisfied: langchain<0.4.0,>=0.3.6 in c:\\users\\asus\\appdata\\local\\programs\\python\\python312\\lib\\site-packages (from langchain-community==0.3.5) (0.3.12)\n",
      "Requirement already satisfied: langsmith<0.2.0,>=0.1.125 in c:\\users\\asus\\appdata\\local\\programs\\python\\python312\\lib\\site-packages (from langchain-community==0.3.5) (0.1.147)\n",
      "Requirement already satisfied: pydantic-settings<3.0.0,>=2.4.0 in c:\\users\\asus\\appdata\\local\\programs\\python\\python312\\lib\\site-packages (from langchain-community==0.3.5) (2.7.0)\n",
      "Requirement already satisfied: requests<3,>=2 in c:\\users\\asus\\appdata\\local\\programs\\python\\python312\\lib\\site-packages (from langchain-community==0.3.5) (2.32.3)\n",
      "Requirement already satisfied: tenacity!=8.4.0,<10,>=8.1.0 in c:\\users\\asus\\appdata\\local\\programs\\python\\python312\\lib\\site-packages (from langchain-community==0.3.5) (9.0.0)\n",
      "Requirement already satisfied: jsonpatch<2.0,>=1.33 in c:\\users\\asus\\appdata\\local\\programs\\python\\python312\\lib\\site-packages (from langchain-core==0.3.15) (1.33)\n",
      "Requirement already satisfied: packaging<25,>=23.2 in c:\\users\\asus\\appdata\\roaming\\python\\python312\\site-packages (from langchain-core==0.3.15) (24.1)\n",
      "Requirement already satisfied: typing-extensions>=4.7 in c:\\users\\asus\\appdata\\local\\programs\\python\\python312\\lib\\site-packages (from langchain-core==0.3.15) (4.12.2)\n",
      "Requirement already satisfied: anyio<5,>=3.5.0 in c:\\users\\asus\\appdata\\local\\programs\\python\\python312\\lib\\site-packages (from openai==1.54.4) (4.7.0)\n",
      "Requirement already satisfied: distro<2,>=1.7.0 in c:\\users\\asus\\appdata\\local\\programs\\python\\python312\\lib\\site-packages (from openai==1.54.4) (1.9.0)\n",
      "Requirement already satisfied: httpx<1,>=0.23.0 in c:\\users\\asus\\appdata\\local\\programs\\python\\python312\\lib\\site-packages (from openai==1.54.4) (0.28.1)\n",
      "Requirement already satisfied: jiter<1,>=0.4.0 in c:\\users\\asus\\appdata\\local\\programs\\python\\python312\\lib\\site-packages (from openai==1.54.4) (0.8.2)\n",
      "Requirement already satisfied: sniffio in c:\\users\\asus\\appdata\\local\\programs\\python\\python312\\lib\\site-packages (from openai==1.54.4) (1.3.1)\n",
      "Requirement already satisfied: python-dateutil>=2.8.2 in c:\\users\\asus\\appdata\\roaming\\python\\python312\\site-packages (from pandas==2.2.3) (2.9.0.post0)\n",
      "Requirement already satisfied: pytz>=2020.1 in c:\\users\\asus\\appdata\\local\\programs\\python\\python312\\lib\\site-packages (from pandas==2.2.3) (2024.2)\n",
      "Requirement already satisfied: tzdata>=2022.7 in c:\\users\\asus\\appdata\\local\\programs\\python\\python312\\lib\\site-packages (from pandas==2.2.3) (2024.1)\n",
      "Requirement already satisfied: tiktoken>=0.5.1 in c:\\users\\asus\\appdata\\local\\programs\\python\\python312\\lib\\site-packages (from tavily-python==0.5.0) (0.8.0)\n",
      "Requirement already satisfied: aiohappyeyeballs>=2.3.0 in c:\\users\\asus\\appdata\\local\\programs\\python\\python312\\lib\\site-packages (from aiohttp<4.0.0,>=3.8.3->langchain-community==0.3.5) (2.4.3)\n",
      "Requirement already satisfied: aiosignal>=1.1.2 in c:\\users\\asus\\appdata\\local\\programs\\python\\python312\\lib\\site-packages (from aiohttp<4.0.0,>=3.8.3->langchain-community==0.3.5) (1.3.1)\n",
      "Requirement already satisfied: attrs>=17.3.0 in c:\\users\\asus\\appdata\\local\\programs\\python\\python312\\lib\\site-packages (from aiohttp<4.0.0,>=3.8.3->langchain-community==0.3.5) (24.2.0)\n",
      "Requirement already satisfied: frozenlist>=1.1.1 in c:\\users\\asus\\appdata\\local\\programs\\python\\python312\\lib\\site-packages (from aiohttp<4.0.0,>=3.8.3->langchain-community==0.3.5) (1.4.1)\n",
      "Requirement already satisfied: multidict<7.0,>=4.5 in c:\\users\\asus\\appdata\\local\\programs\\python\\python312\\lib\\site-packages (from aiohttp<4.0.0,>=3.8.3->langchain-community==0.3.5) (6.1.0)\n",
      "Requirement already satisfied: yarl<2.0,>=1.12.0 in c:\\users\\asus\\appdata\\local\\programs\\python\\python312\\lib\\site-packages (from aiohttp<4.0.0,>=3.8.3->langchain-community==0.3.5) (1.13.1)\n",
      "Requirement already satisfied: idna>=2.8 in c:\\users\\asus\\appdata\\local\\programs\\python\\python312\\lib\\site-packages (from anyio<5,>=3.5.0->openai==1.54.4) (3.9)\n",
      "Requirement already satisfied: marshmallow<4.0.0,>=3.18.0 in c:\\users\\asus\\appdata\\local\\programs\\python\\python312\\lib\\site-packages (from dataclasses-json<0.7,>=0.5.7->langchain-community==0.3.5) (3.23.1)\n",
      "Requirement already satisfied: typing-inspect<1,>=0.4.0 in c:\\users\\asus\\appdata\\local\\programs\\python\\python312\\lib\\site-packages (from dataclasses-json<0.7,>=0.5.7->langchain-community==0.3.5) (0.9.0)\n",
      "Requirement already satisfied: certifi in c:\\users\\asus\\appdata\\local\\programs\\python\\python312\\lib\\site-packages (from httpx<1,>=0.23.0->openai==1.54.4) (2024.8.30)\n",
      "Requirement already satisfied: httpcore==1.* in c:\\users\\asus\\appdata\\local\\programs\\python\\python312\\lib\\site-packages (from httpx<1,>=0.23.0->openai==1.54.4) (1.0.7)\n",
      "Requirement already satisfied: h11<0.15,>=0.13 in c:\\users\\asus\\appdata\\local\\programs\\python\\python312\\lib\\site-packages (from httpcore==1.*->httpx<1,>=0.23.0->openai==1.54.4) (0.14.0)\n",
      "Requirement already satisfied: jsonpointer>=1.9 in c:\\users\\asus\\appdata\\local\\programs\\python\\python312\\lib\\site-packages (from jsonpatch<2.0,>=1.33->langchain-core==0.3.15) (3.0.0)\n",
      "INFO: pip is looking at multiple versions of langchain to determine which version is compatible with other requirements. This could take a while.\n",
      "Collecting langchain<0.4.0,>=0.3.6 (from langchain-community==0.3.5)\n",
      "  Using cached langchain-0.3.11-py3-none-any.whl.metadata (7.1 kB)\n",
      "  Using cached langchain-0.3.10-py3-none-any.whl.metadata (7.1 kB)\n",
      "  Using cached langchain-0.3.9-py3-none-any.whl.metadata (7.1 kB)\n",
      "  Using cached langchain-0.3.8-py3-none-any.whl.metadata (7.1 kB)\n",
      "  Using cached langchain-0.3.7-py3-none-any.whl.metadata (7.1 kB)\n",
      "Requirement already satisfied: orjson<4.0.0,>=3.9.14 in c:\\users\\asus\\appdata\\local\\programs\\python\\python312\\lib\\site-packages (from langsmith<0.2.0,>=0.1.125->langchain-community==0.3.5) (3.10.12)\n",
      "Requirement already satisfied: requests-toolbelt<2.0.0,>=1.0.0 in c:\\users\\asus\\appdata\\local\\programs\\python\\python312\\lib\\site-packages (from langsmith<0.2.0,>=0.1.125->langchain-community==0.3.5) (1.0.0)\n",
      "Requirement already satisfied: annotated-types>=0.6.0 in c:\\users\\asus\\appdata\\local\\programs\\python\\python312\\lib\\site-packages (from pydantic->deeplake==3.9.27) (0.7.0)\n",
      "Requirement already satisfied: pydantic-core==2.27.1 in c:\\users\\asus\\appdata\\local\\programs\\python\\python312\\lib\\site-packages (from pydantic->deeplake==3.9.27) (2.27.1)\n",
      "Requirement already satisfied: python-dotenv>=0.21.0 in c:\\users\\asus\\appdata\\local\\programs\\python\\python312\\lib\\site-packages (from pydantic-settings<3.0.0,>=2.4.0->langchain-community==0.3.5) (1.0.1)\n",
      "Requirement already satisfied: six>=1.5 in c:\\users\\asus\\appdata\\roaming\\python\\python312\\site-packages (from python-dateutil>=2.8.2->pandas==2.2.3) (1.16.0)\n",
      "Requirement already satisfied: charset-normalizer<4,>=2 in c:\\users\\asus\\appdata\\local\\programs\\python\\python312\\lib\\site-packages (from requests<3,>=2->langchain-community==0.3.5) (3.3.2)\n",
      "Requirement already satisfied: urllib3<3,>=1.21.1 in c:\\users\\asus\\appdata\\local\\programs\\python\\python312\\lib\\site-packages (from requests<3,>=2->langchain-community==0.3.5) (2.2.3)\n",
      "Requirement already satisfied: greenlet!=0.4.17 in c:\\users\\asus\\appdata\\local\\programs\\python\\python312\\lib\\site-packages (from SQLAlchemy<2.0.36,>=1.4->langchain-community==0.3.5) (3.1.1)\n",
      "Requirement already satisfied: regex>=2022.1.18 in c:\\users\\asus\\appdata\\local\\programs\\python\\python312\\lib\\site-packages (from tiktoken>=0.5.1->tavily-python==0.5.0) (2024.9.11)\n",
      "Requirement already satisfied: colorama in c:\\users\\asus\\appdata\\local\\programs\\python\\python312\\lib\\site-packages (from tqdm->deeplake==3.9.27) (0.4.6)\n",
      "Requirement already satisfied: botocore<1.36.0,>=1.35.81 in c:\\users\\asus\\appdata\\local\\programs\\python\\python312\\lib\\site-packages (from boto3->deeplake==3.9.27) (1.35.81)\n",
      "Requirement already satisfied: jmespath<2.0.0,>=0.7.1 in c:\\users\\asus\\appdata\\local\\programs\\python\\python312\\lib\\site-packages (from boto3->deeplake==3.9.27) (1.0.1)\n",
      "Requirement already satisfied: s3transfer<0.11.0,>=0.10.0 in c:\\users\\asus\\appdata\\local\\programs\\python\\python312\\lib\\site-packages (from boto3->deeplake==3.9.27) (0.10.4)\n",
      "Requirement already satisfied: ppft>=1.7.6.9 in c:\\users\\asus\\appdata\\local\\programs\\python\\python312\\lib\\site-packages (from pathos->deeplake==3.9.27) (1.7.6.9)\n",
      "Requirement already satisfied: dill>=0.3.9 in c:\\users\\asus\\appdata\\local\\programs\\python\\python312\\lib\\site-packages (from pathos->deeplake==3.9.27) (0.3.9)\n",
      "Requirement already satisfied: pox>=0.3.5 in c:\\users\\asus\\appdata\\local\\programs\\python\\python312\\lib\\site-packages (from pathos->deeplake==3.9.27) (0.3.5)\n",
      "Requirement already satisfied: multiprocess>=0.70.17 in c:\\users\\asus\\appdata\\local\\programs\\python\\python312\\lib\\site-packages (from pathos->deeplake==3.9.27) (0.70.17)\n",
      "Requirement already satisfied: mypy-extensions>=0.3.0 in c:\\users\\asus\\appdata\\local\\programs\\python\\python312\\lib\\site-packages (from typing-inspect<1,>=0.4.0->dataclasses-json<0.7,>=0.5.7->langchain-community==0.3.5) (1.0.0)\n",
      "Using cached langchain_community-0.3.5-py3-none-any.whl (2.4 MB)\n",
      "Using cached langchain_core-0.3.15-py3-none-any.whl (408 kB)\n",
      "Using cached langchain_text_splitters-0.3.2-py3-none-any.whl (25 kB)\n",
      "Using cached openai-1.54.4-py3-none-any.whl (389 kB)\n",
      "Using cached langchain-0.3.7-py3-none-any.whl (1.0 MB)\n",
      "Installing collected packages: openai, langchain-core, langchain-text-splitters, langchain, langchain-community\n",
      "  Attempting uninstall: openai\n",
      "    Found existing installation: openai 1.57.4\n",
      "    Uninstalling openai-1.57.4:\n",
      "      Successfully uninstalled openai-1.57.4\n",
      "  Attempting uninstall: langchain-core\n",
      "    Found existing installation: langchain-core 0.3.25\n",
      "    Uninstalling langchain-core-0.3.25:\n",
      "      Successfully uninstalled langchain-core-0.3.25\n",
      "  Attempting uninstall: langchain-text-splitters\n",
      "    Found existing installation: langchain-text-splitters 0.3.3\n",
      "    Uninstalling langchain-text-splitters-0.3.3:\n",
      "      Successfully uninstalled langchain-text-splitters-0.3.3\n",
      "  Attempting uninstall: langchain\n",
      "    Found existing installation: langchain 0.3.12\n",
      "    Uninstalling langchain-0.3.12:\n",
      "      Successfully uninstalled langchain-0.3.12\n",
      "  Attempting uninstall: langchain-community\n",
      "    Found existing installation: langchain-community 0.3.12\n",
      "    Uninstalling langchain-community-0.3.12:\n",
      "      Successfully uninstalled langchain-community-0.3.12\n",
      "Successfully installed langchain-0.3.7 langchain-community-0.3.5 langchain-core-0.3.15 langchain-text-splitters-0.3.2 openai-1.54.4\n",
      "Note: you may need to restart the kernel to use updated packages.\n"
     ]
    },
    {
     "name": "stderr",
     "output_type": "stream",
     "text": [
      "ERROR: pip's dependency resolver does not currently take into account all the packages that are installed. This behaviour is the source of the following dependency conflicts.\n",
      "graphrag 1.0.0 requires openai<2.0.0,>=1.57.0, but you have openai 1.54.4 which is incompatible.\n"
     ]
    }
   ],
   "source": [
    "%pip install deeplake==3.9.27 langchain-community==0.3.5 langchain-core==0.3.15 langchain-experimental==0.3.3 langchain-openai langchain-text-splitters==0.3.2 numpy==1.26.4 openai==1.54.4 pandas==2.2.3 pillow==10.4.0 PyMuPDF==1.24.13 tavily-python==0.5.0"
   ]
  },
  {
   "cell_type": "markdown",
   "metadata": {},
   "source": [
    "### Importing all libraries"
   ]
  },
  {
   "cell_type": "code",
   "execution_count": 3,
   "metadata": {},
   "outputs": [
    {
     "name": "stderr",
     "output_type": "stream",
     "text": [
      "c:\\Users\\asus\\AppData\\Local\\Programs\\Python\\Python312\\Lib\\site-packages\\deeplake\\util\\check_latest_version.py:32: UserWarning: A newer version of deeplake (4.1.0) is available. It's recommended that you update to the latest version using `pip install -U deeplake`.\n",
      "  warnings.warn(\n",
      "c:\\Users\\asus\\AppData\\Local\\Programs\\Python\\Python312\\Lib\\site-packages\\tqdm\\auto.py:21: TqdmWarning: IProgress not found. Please update jupyter and ipywidgets. See https://ipywidgets.readthedocs.io/en/stable/user_install.html\n",
      "  from .autonotebook import tqdm as notebook_tqdm\n"
     ]
    }
   ],
   "source": [
    "import os\n",
    "from langchain_core.prompts import (\n",
    "  ChatPromptTemplate,\n",
    ")\n",
    "from langchain_openai import ChatOpenAI, OpenAIEmbeddings\n",
    "from langchain.agents import AgentExecutor, create_openai_tools_agent\n",
    "from langchain.tools.retriever import create_retriever_tool\n",
    "from langchain.tools.tavily_search import TavilySearchResults\n",
    "from langchain.vectorstores.deeplake import DeepLake\n",
    "from langchain.text_splitter import CharacterTextSplitter\n",
    "from langchain.document_loaders.pdf import PyMuPDFLoader\n",
    "from langchain.memory import ConversationBufferWindowMemory, SQLChatMessageHistory\n",
    "from langchain_google_genai import GoogleGenerativeAIEmbeddings, ChatGoogleGenerativeAI"
   ]
  },
  {
   "cell_type": "markdown",
   "metadata": {},
   "source": [
    "### Setting up everything"
   ]
  },
  {
   "cell_type": "code",
   "execution_count": 4,
   "metadata": {},
   "outputs": [],
   "source": [
    "tavily_api_key=\"\"\n",
    "os.environ[\"TAVILY_API_KEY\"] = tavily_api_key\n",
    "search_tool = TavilySearchResults(\n",
    "  name=\"tavily_search_engine\",\n",
    "  description=\"A search engine optimized for retrieving information from web based on user query.\",\n",
    "  max_results=5,\n",
    "  search_depth=\"advanced\",\n",
    "  include_answer=True,\n",
    "  include_raw_content=True,\n",
    "  include_images=True,\n",
    "  verbose=False,\n",
    "  tavily_api_key=tavily_api_key\n",
    ")"
   ]
  },
  {
   "cell_type": "code",
   "execution_count": 5,
   "metadata": {},
   "outputs": [],
   "source": [
    "from langchain_groq import ChatGroq\n",
    "groq_api_key = \"\"\n",
    "llm = ChatGroq(groq_api_key=groq_api_key, model_name=\"Llama3-8b-8192\")\n",
    "\n",
    "prompt = ChatPromptTemplate([\n",
    "  (\"system\",\n",
    "  f\"\"\"You are a helpful chatbot. You need to answer the user's queries in \n",
    "  detail from the document context. You have access to two tools: \n",
    "  deeplake_vectorstore_retriever and tavily_search_engine. \n",
    "  Always use the deeplake_vectorstore_retriever tool first to retrieve \n",
    "  the context and answer the question. If the context does not contain relevant \n",
    "  answer for the user's query, use the tavily_search_engine to fetch web search \n",
    "  results to answer them. NEVER give an incomplete answer. Always try your best \n",
    "  to find answer through web search if answer is not found from context.\"\"\"),\n",
    "  (\"human\", \"{user_input}\"),\n",
    "  (\"placeholder\", \"{messages}\"),\n",
    "  (\"placeholder\", \"{agent_scratchpad}\"),\n",
    "])\n"
   ]
  },
  {
   "cell_type": "markdown",
   "metadata": {},
   "source": [
    "### extracting and processing text from pdf"
   ]
  },
  {
   "cell_type": "code",
   "execution_count": 6,
   "metadata": {},
   "outputs": [
    {
     "name": "stderr",
     "output_type": "stream",
     "text": [
      "c:\\Users\\asus\\AppData\\Local\\Programs\\Python\\Python312\\Lib\\site-packages\\langchain_community\\document_loaders\\parsers\\pdf.py:300: UserWarning: Warning: Empty content on page 1 of document pdf/IPCC_AR6_SYR_SPM.pdf\n",
      "  warnings.warn(\n",
      "c:\\Users\\asus\\AppData\\Local\\Programs\\Python\\Python312\\Lib\\site-packages\\langchain_community\\document_loaders\\parsers\\pdf.py:300: UserWarning: Warning: Empty content on page 5 of document pdf/IPCC_AR6_SYR_SPM.pdf\n",
      "  warnings.warn(\n",
      "c:\\Users\\asus\\AppData\\Local\\Programs\\Python\\Python312\\Lib\\site-packages\\langchain_community\\document_loaders\\parsers\\pdf.py:300: UserWarning: Warning: Empty content on page 7 of document pdf/IPCC_AR6_SYR_SPM.pdf\n",
      "  warnings.warn(\n"
     ]
    },
    {
     "name": "stdout",
     "output_type": "stream",
     "text": [
      "Deep Lake Dataset in dataset already exists, loading from the storage\n"
     ]
    },
    {
     "name": "stderr",
     "output_type": "stream",
     "text": [
      "c:\\Users\\asus\\AppData\\Local\\Programs\\Python\\Python312\\Lib\\site-packages\\langchain_community\\document_loaders\\parsers\\pdf.py:300: UserWarning: Warning: Empty content on page 40 of document pdf/IPCC_AR6_SYR_SPM.pdf\n",
      "  warnings.warn(\n",
      "c:\\Users\\asus\\AppData\\Local\\Programs\\Python\\Python312\\Lib\\site-packages\\langchain_community\\document_loaders\\parsers\\pdf.py:300: UserWarning: Warning: Empty content on page 41 of document pdf/IPCC_AR6_SYR_SPM.pdf\n",
      "  warnings.warn(\n",
      "Creating 193 embeddings in 1 batches of size 193:: 100%|██████████| 1/1 [00:13<00:00, 13.87s/it]"
     ]
    },
    {
     "name": "stdout",
     "output_type": "stream",
     "text": [
      "Dataset(path='dataset', tensors=['embedding', 'id', 'metadata', 'text'])\n",
      "\n",
      "  tensor      htype      shape      dtype  compression\n",
      "  -------    -------    -------    -------  ------- \n",
      " embedding  embedding  (386, 768)  float32   None   \n",
      "    id        text      (386, 1)     str     None   \n",
      " metadata     json      (386, 1)     str     None   \n",
      "   text       text      (386, 1)     str     None   \n"
     ]
    },
    {
     "name": "stderr",
     "output_type": "stream",
     "text": [
      "\n"
     ]
    }
   ],
   "source": [
    "data = \"pdf/IPCC_AR6_SYR_SPM.pdf\" \n",
    "loader = PyMuPDFLoader(file_path=data) \n",
    "text_splitter = CharacterTextSplitter(separator=\"\\n\", chunk_size=1000, chunk_overlap=200) \n",
    "docs = loader.load_and_split(text_splitter=text_splitter) \n",
    "embeddings = GoogleGenerativeAIEmbeddings(model=\"models/embedding-001\")\n",
    "# embeddings = OpenAIEmbeddings(api_key=\"openai_api_key\",) \n",
    "vectorstore = DeepLake(dataset_path=\"dataset\", embedding=embeddings,) \n",
    "_ = vectorstore.add_documents(documents=docs)"
   ]
  },
  {
   "cell_type": "code",
   "execution_count": 7,
   "metadata": {},
   "outputs": [],
   "source": [
    "retriever_tool = create_retriever_tool(\n",
    "\tretriever=vectorstore.as_retriever(\n",
    "\tsearch_type=\"similarity\",\n",
    "\tsearch_kwargs={\n",
    "\t\t\"k\": 6,\n",
    "\t\t\"fetch_k\": 12,\n",
    "\t},\n",
    "),\n",
    "name=\"deeplake_vectorstore_retriever\",\n",
    "  description=\"Searches and returns contents from uploaded Climate Change 2023 Sythesis Report based on user query.\",\n",
    ")\n",
    "\n",
    "tools = [\n",
    "  retriever_tool,\n",
    "  search_tool,\n",
    "]"
   ]
  },
  {
   "cell_type": "code",
   "execution_count": 8,
   "metadata": {},
   "outputs": [
    {
     "name": "stderr",
     "output_type": "stream",
     "text": [
      "C:\\Users\\asus\\AppData\\Roaming\\Python\\Python312\\site-packages\\IPython\\core\\interactiveshell.py:3577: LangChainDeprecationWarning: `connection_string` was deprecated in LangChain 0.2.2 and will be removed in 1.0. Use connection instead.\n",
      "  exec(code_obj, self.user_global_ns, self.user_ns)\n",
      "C:\\Users\\asus\\AppData\\Local\\Temp\\ipykernel_30044\\198912400.py:8: LangChainDeprecationWarning: Please see the migration guide at: https://python.langchain.com/docs/versions/migrating_memory/\n",
      "  memory = ConversationBufferWindowMemory(chat_memory=history)\n"
     ]
    }
   ],
   "source": [
    "history = SQLChatMessageHistory(\n",
    "  session_id=\"ghdcfhdxgfx\",\n",
    "  connection_string=\"sqlite:///chat_history.db\",\n",
    "  table_name=\"message_store\",\n",
    "  session_id_field_name=\"session_id\",\n",
    ")\n",
    "\n",
    "memory = ConversationBufferWindowMemory(chat_memory=history)"
   ]
  },
  {
   "cell_type": "code",
   "execution_count": 9,
   "metadata": {},
   "outputs": [],
   "source": [
    "agent = create_openai_tools_agent(llm, tools, prompt)\n",
    "\n",
    "agent_executor = AgentExecutor(\n",
    "  tools=tools,\n",
    "  agent=agent,\n",
    "  verbose=False,\n",
    "  max_iterations=8,\n",
    "  early_stopping_method=\"force\",\n",
    "  memory=memory,\n",
    ")"
   ]
  },
  {
   "cell_type": "code",
   "execution_count": 10,
   "metadata": {},
   "outputs": [
    {
     "name": "stdout",
     "output_type": "stream",
     "text": [
      "Here is the output:\n",
      "\n",
      "Climate related risks are created by a range of hazards. Some are slow in their onset (such as changes in temperature and precipitation leading to droughts, or agricultural losses), while others happen more suddenly (such as tropical storms and floods). It is now widely recognised that climate-related impacts are not just a future threat.\n",
      "\n",
      "Climate change-related risks to health include direct risks from extreme weather such as cold waves, storms, or prolonged high temperatures. There are also indirect risks such as mental health impacts of undernutrition or other environmental factors.\n",
      "\n",
      "Climate-related risks may be , and their effects on the financial system subject to substantial uncertainty and tail-risk. The effects are spread over long time horizons, and actions today may determine the severity of risks in the years ahead.\n",
      "\n",
      "As climate-related risks represent a financial risk, central banks and supervisors need to ensure that the financial system is resilient to these risks. How climate-related risks impacts banks and other finance industry participants? And for the banks, insurers and other entities and institutions regulated by central banks, they themselves must also be aware of these risks.\n",
      "\n",
      "Efforts to mitigate and adapt to climate change also produce opportunities for organizations through, for example, resource efficiency and cost savings, the adoption of low-emission energy sources, the development of new products and services, access to new markets, maximizing new policies that subsidize efficiencies and clean energy, and building resilience along the supply chain.\n",
      "\n",
      "Acute and chronic climate-related risks can have significant impacts on human health, the economy, and the environment.\n"
     ]
    }
   ],
   "source": [
    "result = agent_executor.invoke({\n",
    "  \"user_input\": \"What are some climate related risks?\",\n",
    "},)\n",
    "print(result[\"output\"])"
   ]
  },
  {
   "cell_type": "markdown",
   "metadata": {},
   "source": [
    "### Testing on questions which are not clearly present on docs"
   ]
  },
  {
   "cell_type": "markdown",
   "metadata": {},
   "source": []
  },
  {
   "cell_type": "code",
   "execution_count": 11,
   "metadata": {},
   "outputs": [
    {
     "name": "stdout",
     "output_type": "stream",
     "text": [
      "Policymakers are individuals who have the authority to make decisions and implement policies for a government, organization, or institution. In the context of climate change, policymakers play a crucial role in developing and implementing policies to mitigate and adapt to the impacts of climate change.\n",
      "\n",
      "Examples of policymakers who are working on climate change include:\n",
      "\n",
      "* Government officials, such as ministers, secretaries, and members of parliament, who are responsible for developing and implementing national and international climate policies.\n",
      "* Energy and environmental regulators, who are responsible for developing and enforcing regulations to reduce greenhouse gas emissions and promote sustainable energy development.\n",
      "* Members of international organizations, such as the United Nations, who are working to develop global agreements and frameworks to address climate change.\n",
      "* Researchers and scientists, who are providing data and information to policymakers to inform their decisions and develop effective climate policies.\n",
      "\n",
      "In the context of the Intergovernmental Panel on Climate Change (IPCC), policymakers are also referred to as \"policymakers\" or \"decision-makers\". The IPCC provides scientific and technical information to policymakers to inform their decisions and develop effective climate policies.\n"
     ]
    }
   ],
   "source": [
    "result = agent_executor.invoke({\n",
    "  \"user_input\": \"Who are Policymakers?\",\n",
    "},)\n",
    "print(result[\"output\"])"
   ]
  },
  {
   "cell_type": "code",
   "execution_count": null,
   "metadata": {},
   "outputs": [],
   "source": []
  }
 ],
 "metadata": {
  "kernelspec": {
   "display_name": "Python 3",
   "language": "python",
   "name": "python3"
  },
  "language_info": {
   "codemirror_mode": {
    "name": "ipython",
    "version": 3
   },
   "file_extension": ".py",
   "mimetype": "text/x-python",
   "name": "python",
   "nbconvert_exporter": "python",
   "pygments_lexer": "ipython3",
   "version": "3.12.8"
  }
 },
 "nbformat": 4,
 "nbformat_minor": 2
}
