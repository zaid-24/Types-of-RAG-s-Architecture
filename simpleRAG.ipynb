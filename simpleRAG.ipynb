{
 "cells": [
  {
   "cell_type": "markdown",
   "metadata": {},
   "source": [
    "# 1. Simple RAG\n",
    "\n",
    "<img src=\"https://miro.medium.com/v2/resize:fit:1400/1*J7vyY3EjY46AlduMvr9FbQ.png\" height=300px>"
   ]
  },
  {
   "cell_type": "code",
   "execution_count": 6,
   "metadata": {},
   "outputs": [],
   "source": [
    "!pip install --quiet \\\n",
    "    langchain-core \\\n",
    "    langchain-google-genai \\\n",
    "    langchain-groq \\\n",
    "    langchain-community \\\n",
    "    PyMuPDF"
   ]
  },
  {
   "cell_type": "markdown",
   "metadata": {},
   "source": [
    "### Importing necessary files"
   ]
  },
  {
   "cell_type": "code",
   "execution_count": 7,
   "metadata": {},
   "outputs": [],
   "source": [
    "import os\n",
    "from langchain_groq import ChatGroq\n",
    "from langchain.text_splitter import RecursiveCharacterTextSplitter\n",
    "from langchain.chains.combine_documents import create_stuff_documents_chain\n",
    "from langchain_core.prompts import ChatPromptTemplate\n",
    "from langchain.chains import create_retrieval_chain\n",
    "from langchain_community.vectorstores import FAISS\n",
    "from langchain_community.document_loaders import PyPDFDirectoryLoader\n",
    "from langchain_google_genai import GoogleGenerativeAIEmbeddings\n",
    "import time"
   ]
  },
  {
   "cell_type": "markdown",
   "metadata": {},
   "source": [
    "### Setting up everything"
   ]
  },
  {
   "cell_type": "code",
   "execution_count": 8,
   "metadata": {},
   "outputs": [],
   "source": [
    "# Setting up the GROQ and OpenAI API keys\n",
    "groq_api_key = \"\"\n",
    "google_api_key = \"\"\n",
    "\n",
    "# Initializing the model and prompt template\n",
    "llm = ChatGroq(groq_api_key=groq_api_key, model_name=\"Llama3-8b-8192\")\n",
    "prompt = ChatPromptTemplate.from_template(\"\"\"\n",
    "Answer the questions based on the provided context only.\n",
    "Please provide the most accurate response based on the question.\n",
    "<context>\n",
    "{context}\n",
    "<context>\n",
    "Questions: {input}\n",
    "\"\"\")\n"
   ]
  },
  {
   "cell_type": "code",
   "execution_count": 9,
   "metadata": {},
   "outputs": [],
   "source": [
    "# The vector embedding function\n",
    "def vector_embedding():\n",
    "    embeddings = GoogleGenerativeAIEmbeddings(model=\"models/embedding-001\")\n",
    "    loader = PyPDFDirectoryLoader(\"./pdf\")  # Data Ingestion\n",
    "    docs = loader.load()  # Document Loading\n",
    "    text_splitter = RecursiveCharacterTextSplitter(chunk_size=1000, chunk_overlap=200)  # Chunk Creation\n",
    "    final_documents = text_splitter.split_documents(docs[:20])  # Splitting\n",
    "    vectors = FAISS.from_documents(final_documents, embeddings)  # Vector OpenAI embeddings\n",
    "    return vectors"
   ]
  },
  {
   "cell_type": "code",
   "execution_count": 10,
   "metadata": {},
   "outputs": [
    {
     "name": "stdout",
     "output_type": "stream",
     "text": [
      "Answer: According to the provided context, some climate-related risks include:\n",
      "\n",
      "* Many climate-related risks are higher than assessed in AR5, and projected long-term impacts are up to multiple times higher than currently observed (high confidence).\n",
      "* Risks and projected adverse impacts and related losses and damages from climate change escalate with every increment of global warming (very high confidence).\n",
      "* Climatic and non-climatic risks will increasingly interact, creating compound and cascading risks that are more complex and difficult to manage (high confidence).\n",
      "* Compound heatwaves and droughts are projected to become more frequent, including concurrent events across multiple locations (high confidence).\n",
      "* Adverse climate impacts can reduce the availability of financial resources by incurring losses and damages and through impeding national economic growth, thereby further increasing financial constraints for adaptation, particularly for developing and least developed countries (medium confidence).\n",
      "\n",
      "Note that these risks are based on the context provided and may not be an exhaustive list of all climate-related risks.\n"
     ]
    }
   ],
   "source": [
    "\n",
    "# Input\n",
    "question =\"What are some climate related risks?\"\n",
    "\n",
    "vectors = vector_embedding()\n",
    "document_chain = create_stuff_documents_chain(llm, prompt)\n",
    "retriever = vectors.as_retriever()\n",
    "retrieval_chain = create_retrieval_chain(retriever, document_chain)\n",
    "\n",
    "start = time.process_time()\n",
    "response = retrieval_chain.invoke({'input': question})\n",
    "print(\"Answer:\", response['answer'])"
   ]
  },
  {
   "cell_type": "markdown",
   "metadata": {},
   "source": [
    "### Testing on questions which are not clearly present on docs"
   ]
  },
  {
   "cell_type": "code",
   "execution_count": 11,
   "metadata": {},
   "outputs": [
    {
     "name": "stdout",
     "output_type": "stream",
     "text": [
      "Answer: Based on the provided context, Policymakers are not explicitly defined. However, it can be inferred that Policymakers refer to individuals or groups involved in making policies related to climate change, such as government officials, politicians, or decision-makers in international organizations.\n"
     ]
    }
   ],
   "source": [
    "question=\"Who are Policymakers?\"\n",
    "response = retrieval_chain.invoke({'input': question})\n",
    "print(\"Answer:\", response['answer'])"
   ]
  },
  {
   "cell_type": "markdown",
   "metadata": {},
   "source": [
    "Thank You"
   ]
  }
 ],
 "metadata": {
  "kernelspec": {
   "display_name": "Python 3",
   "language": "python",
   "name": "python3"
  },
  "language_info": {
   "codemirror_mode": {
    "name": "ipython",
    "version": 3
   },
   "file_extension": ".py",
   "mimetype": "text/x-python",
   "name": "python",
   "nbconvert_exporter": "python",
   "pygments_lexer": "ipython3",
   "version": "3.12.8"
  }
 },
 "nbformat": 4,
 "nbformat_minor": 2
}
